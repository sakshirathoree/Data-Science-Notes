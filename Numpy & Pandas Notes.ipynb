{
 "cells": [
  {
   "cell_type": "markdown",
   "id": "790182cd",
   "metadata": {},
   "source": [
    "# `NUMPY NOTES`"
   ]
  },
  {
   "cell_type": "markdown",
   "id": "63533efd",
   "metadata": {},
   "source": [
    "**NumPy stands for Numerical Python. NumPy is a Python library used for working with arrays.**"
   ]
  },
  {
   "cell_type": "markdown",
   "id": "d50d5000",
   "metadata": {},
   "source": [
    "### Why Use NumPy?"
   ]
  },
  {
   "cell_type": "markdown",
   "id": "7f8711aa",
   "metadata": {},
   "source": [
    "In Python we have lists that serve the purpose of arrays, but they are slow to process.\n",
    "\n",
    "NumPy aims to provide an array object that is up to 50x faster than traditional Python lists.\n",
    "\n",
    "The array object in NumPy is called ndarray, it provides a lot of supporting functions that make working with ndarray very easy.\n",
    "With numpy we can do various mathematical & statistical computations fastly & efficiently."
   ]
  },
  {
   "cell_type": "markdown",
   "id": "6bc0dac2",
   "metadata": {},
   "source": [
    "### Why is NumPy Faster Than Lists?"
   ]
  },
  {
   "cell_type": "markdown",
   "id": "5b5c9cea",
   "metadata": {},
   "source": [
    "NumPy arrays are stored at one continuous place in memory unlike lists, so processes can access and manipulate them very efficiently.\n",
    "\n",
    "This behavior is called locality of reference in computer science.\n",
    "\n",
    "This is the main reason why NumPy is faster than lists. Also it is optimized to work with latest CPU architectures."
   ]
  },
  {
   "cell_type": "markdown",
   "id": "b61d1cbc",
   "metadata": {},
   "source": [
    "\n",
    "*Install pandas using command : pip install pandas*"
   ]
  },
  {
   "cell_type": "markdown",
   "id": "10f36f82",
   "metadata": {},
   "source": [
    "# `Getting Started`"
   ]
  },
  {
   "cell_type": "markdown",
   "id": "ae013310",
   "metadata": {},
   "source": [
    "To use pandas, you'll typically start with the following line of code."
   ]
  },
  {
   "cell_type": "markdown",
   "id": "0b846009",
   "metadata": {},
   "source": [
    "import pandas as pd"
   ]
  },
  {
   "cell_type": "markdown",
   "id": "36d97c32",
   "metadata": {},
   "source": [
    "## NumPy Creating Arrays"
   ]
  },
  {
   "cell_type": "markdown",
   "id": "aed5865a",
   "metadata": {},
   "source": [
    "NumPy is used to work with arrays. The array object in NumPy is called ndarray.\n",
    "\n",
    "We can create a NumPy ndarray object by using the array() function."
   ]
  },
  {
   "cell_type": "code",
   "execution_count": 1,
   "id": "f2c5a06a",
   "metadata": {},
   "outputs": [
    {
     "name": "stdout",
     "output_type": "stream",
     "text": [
      "[1 2 3 4 5]\n"
     ]
    }
   ],
   "source": [
    "import numpy as np\n",
    "\n",
    "arr = np.array([1, 2, 3, 4, 5])\n",
    "\n",
    "print(arr)"
   ]
  },
  {
   "cell_type": "markdown",
   "id": "d82e3fe0",
   "metadata": {},
   "source": [
    "### Check Number of Dimensions"
   ]
  },
  {
   "cell_type": "markdown",
   "id": "de26c4e6",
   "metadata": {},
   "source": [
    "NumPy Arrays provides the **ndim** attribute that returns an integer that tells us how many dimensions the array have."
   ]
  },
  {
   "cell_type": "code",
   "execution_count": 2,
   "id": "81fdd742",
   "metadata": {},
   "outputs": [
    {
     "name": "stdout",
     "output_type": "stream",
     "text": [
      "0\n",
      "1\n",
      "2\n",
      "3\n"
     ]
    }
   ],
   "source": [
    "import numpy as np\n",
    "\n",
    "a = np.array(42)\n",
    "b = np.array([1, 2, 3, 4, 5])\n",
    "c = np.array([[1, 2, 3], [4, 5, 6]])\n",
    "d = np.array([[[1, 2, 3], [4, 5, 6]], [[1, 2, 3], [4, 5, 6]]])\n",
    "\n",
    "print(a.ndim)\n",
    "print(b.ndim)\n",
    "print(c.ndim)\n",
    "print(d.ndim)"
   ]
  },
  {
   "cell_type": "markdown",
   "id": "dad2a6db",
   "metadata": {},
   "source": [
    "### NumPy Array Indexing\n",
    "You can access an array element by referring to its index number.\n",
    "\n",
    "The indexes in NumPy arrays start with 0, meaning that the first element has index 0, and the second has index 1 etc."
   ]
  },
  {
   "cell_type": "code",
   "execution_count": 6,
   "id": "b47e805c",
   "metadata": {},
   "outputs": [
    {
     "name": "stdout",
     "output_type": "stream",
     "text": [
      "1\n",
      "3\n"
     ]
    }
   ],
   "source": [
    "import numpy as np\n",
    "\n",
    "arr = np.array([1, 2, 3, 4])\n",
    "\n",
    "print(arr[0])\n",
    "print(arr[2])"
   ]
  },
  {
   "cell_type": "code",
   "execution_count": 7,
   "id": "1c5b68bd",
   "metadata": {},
   "outputs": [
    {
     "name": "stdout",
     "output_type": "stream",
     "text": [
      "2nd element on 1st row:  2\n"
     ]
    }
   ],
   "source": [
    "#Access 2-D Arrays\n",
    "import numpy as np\n",
    "\n",
    "arr = np.array([[1,2,3,4,5], [6,7,8,9,10]])\n",
    "\n",
    "print('2nd element on 1st row: ', arr[0, 1])"
   ]
  },
  {
   "cell_type": "code",
   "execution_count": 8,
   "id": "56eebcc6",
   "metadata": {},
   "outputs": [
    {
     "name": "stdout",
     "output_type": "stream",
     "text": [
      "6\n"
     ]
    }
   ],
   "source": [
    "#Access 3-D Arrays\n",
    "import numpy as np\n",
    "\n",
    "arr = np.array([[[1, 2, 3], [4, 5, 6]], [[7, 8, 9], [10, 11, 12]]])\n",
    "\n",
    "print(arr[0, 1, 2])"
   ]
  },
  {
   "cell_type": "markdown",
   "id": "58efa564",
   "metadata": {},
   "source": [
    "### NumPy Array Slicing\n",
    "Slicing in python means taking elements from one given index to another given index.\n",
    "\n",
    "We pass slice instead of index like this: [start:end]."
   ]
  },
  {
   "cell_type": "code",
   "execution_count": 13,
   "id": "86674feb",
   "metadata": {},
   "outputs": [
    {
     "name": "stdout",
     "output_type": "stream",
     "text": [
      "[2 3 4 5]\n",
      "[5 6 7]\n",
      "[1 2 3 4]\n",
      "[5 6]\n"
     ]
    }
   ],
   "source": [
    "import numpy as np\n",
    "\n",
    "arr = np.array([1, 2, 3, 4, 5, 6, 7])\n",
    "\n",
    "print(arr[1:5])\n",
    "print(arr[4:])\n",
    "print(arr[:4])\n",
    "\n",
    "#negative slicing\n",
    "print(arr[-3:-1])"
   ]
  },
  {
   "cell_type": "code",
   "execution_count": 14,
   "id": "448281e5",
   "metadata": {},
   "outputs": [
    {
     "name": "stdout",
     "output_type": "stream",
     "text": [
      "[7 8 9]\n"
     ]
    }
   ],
   "source": [
    "#Slicing 2-D Arrays\n",
    "\n",
    "#From the second element, slice elements from index 1 to index 4 (not included):\n",
    "import numpy as np\n",
    "\n",
    "arr = np.array([[1, 2, 3, 4, 5], [6, 7, 8, 9, 10]])\n",
    "\n",
    "print(arr[1, 1:4])"
   ]
  },
  {
   "cell_type": "code",
   "execution_count": 15,
   "id": "77c70c5f",
   "metadata": {},
   "outputs": [
    {
     "name": "stdout",
     "output_type": "stream",
     "text": [
      "[3 8]\n"
     ]
    }
   ],
   "source": [
    "#From both elements, return index 2:\n",
    "\n",
    "import numpy as np\n",
    "\n",
    "arr = np.array([[1, 2, 3, 4, 5], [6, 7, 8, 9, 10]])\n",
    "\n",
    "print(arr[0:2, 2])\n"
   ]
  },
  {
   "cell_type": "markdown",
   "id": "700bcb27",
   "metadata": {},
   "source": [
    "### NumPy Data Types"
   ]
  },
  {
   "cell_type": "markdown",
   "id": "a3087c69",
   "metadata": {},
   "source": [
    "By default Python have these data types:\n",
    "<ul>\n",
    "<li>strings - used to represent text data, the text is given under quote marks. e.g. \"ABCD\"</li>\n",
    "<li>integer - used to represent integer numbers. e.g. -1, -2, -3</li>\n",
    "<li>float - used to represent real numbers. e.g. 1.2, 42.42</li>\n",
    "<li>boolean - used to represent True or False.</li>\n",
    "<li>complex - used to represent complex numbers. e.g. 1.0 + 2.0j</li>\n",
    "</ul>\n",
    "    "
   ]
  },
  {
   "cell_type": "markdown",
   "id": "eb1e9d6c",
   "metadata": {},
   "source": [
    "**The NumPy array object has a property called dtype that returns the data type of the array:**"
   ]
  },
  {
   "cell_type": "code",
   "execution_count": 18,
   "id": "7abcd9cc",
   "metadata": {},
   "outputs": [
    {
     "name": "stdout",
     "output_type": "stream",
     "text": [
      "int32\n"
     ]
    }
   ],
   "source": [
    "import numpy as np\n",
    "\n",
    "arr = np.array([1, 2, 3, 4])\n",
    "\n",
    "print(arr.dtype)"
   ]
  },
  {
   "cell_type": "code",
   "execution_count": 19,
   "id": "d6abfe4e",
   "metadata": {},
   "outputs": [
    {
     "name": "stdout",
     "output_type": "stream",
     "text": [
      "<U6\n"
     ]
    }
   ],
   "source": [
    "import numpy as np\n",
    "\n",
    "arr = np.array(['apple', 'banana', 'cherry'])\n",
    "\n",
    "print(arr.dtype)"
   ]
  },
  {
   "cell_type": "markdown",
   "id": "18d57ca2",
   "metadata": {},
   "source": [
    "### NumPy Array Copy vs View"
   ]
  },
  {
   "cell_type": "markdown",
   "id": "ffffb507",
   "metadata": {},
   "source": [
    "**The Difference Between Copy and View**\n",
    "\n",
    "The main difference between a copy and a view of an array is that the copy is a new array, and the view is just a view of the original array.\n",
    "\n",
    "The copy owns the data and any changes made to the copy will not affect original array, and any changes made to the original array will not affect the copy.\n",
    "\n",
    "The view does not own the data and any changes made to the view will affect the original array, and any changes made to the original array will affect the view."
   ]
  },
  {
   "cell_type": "code",
   "execution_count": 20,
   "id": "64d02b10",
   "metadata": {},
   "outputs": [
    {
     "name": "stdout",
     "output_type": "stream",
     "text": [
      "[42  2  3  4  5]\n",
      "[1 2 3 4 5]\n"
     ]
    }
   ],
   "source": [
    "#COPY:\n",
    "import numpy as np\n",
    "\n",
    "arr = np.array([1, 2, 3, 4, 5])\n",
    "x = arr.copy()\n",
    "arr[0] = 42\n",
    "\n",
    "print(arr)\n",
    "print(x)"
   ]
  },
  {
   "cell_type": "markdown",
   "id": "c73d0db1",
   "metadata": {},
   "source": [
    "*The copy SHOULD NOT be affected by the changes made to the original array.*"
   ]
  },
  {
   "cell_type": "code",
   "execution_count": 21,
   "id": "2fe1d234",
   "metadata": {},
   "outputs": [
    {
     "name": "stdout",
     "output_type": "stream",
     "text": [
      "[42  2  3  4  5]\n",
      "[42  2  3  4  5]\n"
     ]
    }
   ],
   "source": [
    "#VIEW:\n",
    "import numpy as np\n",
    "\n",
    "arr = np.array([1, 2, 3, 4, 5])\n",
    "x = arr.view()\n",
    "arr[0] = 42\n",
    "\n",
    "print(arr)\n",
    "print(x)"
   ]
  },
  {
   "cell_type": "markdown",
   "id": "a9d1f655",
   "metadata": {},
   "source": [
    "*The original array SHOULD be affected by the changes made to the view.*"
   ]
  },
  {
   "cell_type": "markdown",
   "id": "d92f3f76",
   "metadata": {},
   "source": [
    "### NumPy Array Shape"
   ]
  },
  {
   "cell_type": "markdown",
   "id": "9c6d3e57",
   "metadata": {},
   "source": [
    "NumPy arrays have an attribute called shape that returns a tuple with each index having the number of corresponding elements."
   ]
  },
  {
   "cell_type": "code",
   "execution_count": 22,
   "id": "0bec1df4",
   "metadata": {},
   "outputs": [
    {
     "name": "stdout",
     "output_type": "stream",
     "text": [
      "(2, 4)\n"
     ]
    }
   ],
   "source": [
    "import numpy as np\n",
    "\n",
    "arr = np.array([[1, 2, 3, 4], [5, 6, 7, 8]])\n",
    "\n",
    "print(arr.shape)"
   ]
  },
  {
   "cell_type": "markdown",
   "id": "b5788807",
   "metadata": {},
   "source": [
    "### NumPy Array Reshaping"
   ]
  },
  {
   "cell_type": "markdown",
   "id": "e40028b1",
   "metadata": {},
   "source": [
    "Reshaping means changing the shape of an array.\n",
    "The shape of an array is the number of elements in each dimension.\n",
    "By reshaping we can add or remove dimensions or change number of elements in each dimension."
   ]
  },
  {
   "cell_type": "code",
   "execution_count": 24,
   "id": "1abe4fd6",
   "metadata": {},
   "outputs": [
    {
     "name": "stdout",
     "output_type": "stream",
     "text": [
      "[[ 1  2  3]\n",
      " [ 4  5  6]\n",
      " [ 7  8  9]\n",
      " [10 11 12]]\n"
     ]
    }
   ],
   "source": [
    "import numpy as np\n",
    "\n",
    "arr = np.array([1, 2, 3, 4, 5, 6, 7, 8, 9, 10, 11, 12])\n",
    "\n",
    "newarr = arr.reshape(4, 3)\n",
    "\n",
    "print(newarr)"
   ]
  },
  {
   "cell_type": "markdown",
   "id": "8ed947d7",
   "metadata": {},
   "source": [
    "### NumPy Array Iterating"
   ]
  },
  {
   "cell_type": "markdown",
   "id": "f472ffe1",
   "metadata": {},
   "source": [
    "Iterating means going through elements one by one.\n",
    "\n",
    "As we deal with multi-dimensional arrays in numpy, we can do this using basic for loop of python.\n",
    "\n",
    "If we iterate on a 1-D array it will go through each element one by one"
   ]
  },
  {
   "cell_type": "code",
   "execution_count": 25,
   "id": "a1da08b5",
   "metadata": {},
   "outputs": [
    {
     "name": "stdout",
     "output_type": "stream",
     "text": [
      "1\n",
      "2\n",
      "3\n"
     ]
    }
   ],
   "source": [
    "#Iterate on the elements of the following 1-D array:\n",
    "import numpy as np\n",
    "\n",
    "arr = np.array([1, 2, 3])\n",
    "\n",
    "for x in arr:\n",
    "  print(x)"
   ]
  },
  {
   "cell_type": "code",
   "execution_count": 26,
   "id": "aa4974f0",
   "metadata": {},
   "outputs": [
    {
     "name": "stdout",
     "output_type": "stream",
     "text": [
      "[1 2 3]\n",
      "[4 5 6]\n"
     ]
    }
   ],
   "source": [
    "#Iterate on the elements of the following 2-D array:\n",
    "import numpy as np\n",
    "\n",
    "arr = np.array([[1, 2, 3], [4, 5, 6]])\n",
    "\n",
    "for x in arr:\n",
    "  print(x)"
   ]
  },
  {
   "cell_type": "code",
   "execution_count": 27,
   "id": "1dd63cdf",
   "metadata": {},
   "outputs": [
    {
     "name": "stdout",
     "output_type": "stream",
     "text": [
      "1\n",
      "2\n",
      "3\n",
      "4\n",
      "5\n",
      "6\n"
     ]
    }
   ],
   "source": [
    "#Iterate on each scalar element of the 2-D array:\n",
    "import numpy as np\n",
    "\n",
    "arr = np.array([[1, 2, 3], [4, 5, 6]])\n",
    "\n",
    "for x in arr:\n",
    "  for y in x:\n",
    "    print(y)"
   ]
  },
  {
   "cell_type": "code",
   "execution_count": 28,
   "id": "12096bfe",
   "metadata": {},
   "outputs": [
    {
     "name": "stdout",
     "output_type": "stream",
     "text": [
      "[[1 2 3]\n",
      " [4 5 6]]\n",
      "[[ 7  8  9]\n",
      " [10 11 12]]\n"
     ]
    }
   ],
   "source": [
    "#Iterate on the elements of the following 3-D array:\n",
    "import numpy as np\n",
    "\n",
    "arr = np.array([[[1, 2, 3], [4, 5, 6]], [[7, 8, 9], [10, 11, 12]]])\n",
    "\n",
    "for x in arr:\n",
    "  print(x)"
   ]
  },
  {
   "cell_type": "code",
   "execution_count": 29,
   "id": "d2c4519b",
   "metadata": {},
   "outputs": [
    {
     "name": "stdout",
     "output_type": "stream",
     "text": [
      "1\n",
      "2\n",
      "3\n",
      "4\n",
      "5\n",
      "6\n",
      "7\n",
      "8\n",
      "9\n",
      "10\n",
      "11\n",
      "12\n"
     ]
    }
   ],
   "source": [
    "import numpy as np\n",
    "\n",
    "arr = np.array([[[1, 2, 3], [4, 5, 6]], [[7, 8, 9], [10, 11, 12]]])\n",
    "\n",
    "for x in arr:\n",
    "  for y in x:\n",
    "    for z in y:\n",
    "      print(z)"
   ]
  },
  {
   "cell_type": "markdown",
   "id": "b8a4f2b2",
   "metadata": {},
   "source": [
    "### NumPy Joining Array"
   ]
  },
  {
   "cell_type": "markdown",
   "id": "da46c33b",
   "metadata": {},
   "source": [
    "Joining means putting contents of two or more arrays in a single array.\n",
    "\n",
    "In SQL we join tables based on a key, whereas in NumPy we join arrays by axes.\n",
    "\n",
    "We pass a sequence of arrays that we want to join to the concatenate() function, along with the axis. If axis is not explicitly passed, it is taken as 0."
   ]
  },
  {
   "cell_type": "code",
   "execution_count": 30,
   "id": "0a3e149b",
   "metadata": {},
   "outputs": [
    {
     "name": "stdout",
     "output_type": "stream",
     "text": [
      "[1 2 3 4 5 6]\n"
     ]
    }
   ],
   "source": [
    "#Join two arrays\n",
    "import numpy as np\n",
    "\n",
    "arr1 = np.array([1, 2, 3])\n",
    "\n",
    "arr2 = np.array([4, 5, 6])\n",
    "\n",
    "arr = np.concatenate((arr1, arr2))\n",
    "\n",
    "print(arr)"
   ]
  },
  {
   "cell_type": "code",
   "execution_count": 31,
   "id": "d129937f",
   "metadata": {},
   "outputs": [
    {
     "name": "stdout",
     "output_type": "stream",
     "text": [
      "[[1 2 5 6]\n",
      " [3 4 7 8]]\n"
     ]
    }
   ],
   "source": [
    "#Join two 2-D arrays along rows (axis=1):\n",
    "import numpy as np\n",
    "\n",
    "arr1 = np.array([[1, 2], [3, 4]])\n",
    "\n",
    "arr2 = np.array([[5, 6], [7, 8]])\n",
    "\n",
    "arr = np.concatenate((arr1, arr2), axis=1)\n",
    "\n",
    "print(arr)"
   ]
  },
  {
   "cell_type": "code",
   "execution_count": 32,
   "id": "4d91bc01",
   "metadata": {},
   "outputs": [
    {
     "name": "stdout",
     "output_type": "stream",
     "text": [
      "[1 2 3 4 5 6]\n"
     ]
    }
   ],
   "source": [
    "#Stacking Along Rows\n",
    "import numpy as np\n",
    "\n",
    "arr1 = np.array([1, 2, 3])\n",
    "\n",
    "arr2 = np.array([4, 5, 6])\n",
    "\n",
    "arr = np.hstack((arr1, arr2))\n",
    "\n",
    "print(arr)"
   ]
  },
  {
   "cell_type": "code",
   "execution_count": 33,
   "id": "e0a88fad",
   "metadata": {},
   "outputs": [
    {
     "name": "stdout",
     "output_type": "stream",
     "text": [
      "[[1 2 3]\n",
      " [4 5 6]]\n"
     ]
    }
   ],
   "source": [
    "#Stacking Along Columns\n",
    "import numpy as np\n",
    "\n",
    "arr1 = np.array([1, 2, 3])\n",
    "\n",
    "arr2 = np.array([4, 5, 6])\n",
    "\n",
    "arr = np.vstack((arr1, arr2))\n",
    "\n",
    "print(arr)"
   ]
  },
  {
   "cell_type": "markdown",
   "id": "f296435d",
   "metadata": {},
   "source": [
    "### NumPy Splitting Array"
   ]
  },
  {
   "cell_type": "markdown",
   "id": "17b6420f",
   "metadata": {},
   "source": [
    "Splitting is reverse operation of Joining.\n",
    "\n",
    "Joining merges multiple arrays into one and Splitting breaks one array into multiple.\n",
    "\n",
    "We use array_split() for splitting arrays, we pass it the array we want to split and the number of splits."
   ]
  },
  {
   "cell_type": "code",
   "execution_count": 34,
   "id": "8a57f822",
   "metadata": {},
   "outputs": [
    {
     "name": "stdout",
     "output_type": "stream",
     "text": [
      "[array([1, 2]), array([3, 4]), array([5, 6])]\n"
     ]
    }
   ],
   "source": [
    "import numpy as np\n",
    "\n",
    "arr = np.array([1, 2, 3, 4, 5, 6])\n",
    "\n",
    "newarr = np.array_split(arr, 3)\n",
    "\n",
    "print(newarr)"
   ]
  },
  {
   "cell_type": "code",
   "execution_count": 35,
   "id": "e288844d",
   "metadata": {},
   "outputs": [
    {
     "name": "stdout",
     "output_type": "stream",
     "text": [
      "[array([1, 2]), array([3, 4]), array([5]), array([6])]\n"
     ]
    }
   ],
   "source": [
    "import numpy as np\n",
    "\n",
    "arr = np.array([1, 2, 3, 4, 5, 6])\n",
    "\n",
    "newarr = np.array_split(arr, 4)\n",
    "\n",
    "print(newarr)"
   ]
  },
  {
   "cell_type": "markdown",
   "id": "bca78dbc",
   "metadata": {},
   "source": [
    "### NumPy Searching Arrays"
   ]
  },
  {
   "cell_type": "markdown",
   "id": "8e1455a4",
   "metadata": {},
   "source": [
    "You can search an array for a certain value, and return the indexes that get a match.\n",
    "\n",
    "To search an array, use the where() method."
   ]
  },
  {
   "cell_type": "code",
   "execution_count": 37,
   "id": "ba2c07c8",
   "metadata": {},
   "outputs": [
    {
     "name": "stdout",
     "output_type": "stream",
     "text": [
      "(array([3, 5, 6], dtype=int64),)\n"
     ]
    }
   ],
   "source": [
    "import numpy as np\n",
    "\n",
    "arr = np.array([1, 2, 3, 4, 5, 4, 4])\n",
    "\n",
    "x = np.where(arr == 4)\n",
    "\n",
    "print(x)"
   ]
  },
  {
   "cell_type": "code",
   "execution_count": 38,
   "id": "95c9bd79",
   "metadata": {},
   "outputs": [
    {
     "name": "stdout",
     "output_type": "stream",
     "text": [
      "(array([1, 3, 5, 7], dtype=int64),)\n"
     ]
    }
   ],
   "source": [
    "import numpy as np\n",
    "\n",
    "arr = np.array([1, 2, 3, 4, 5, 6, 7, 8])\n",
    "\n",
    "x = np.where(arr%2 == 0)\n",
    "\n",
    "print(x)"
   ]
  },
  {
   "cell_type": "code",
   "execution_count": 39,
   "id": "24c83938",
   "metadata": {},
   "outputs": [
    {
     "name": "stdout",
     "output_type": "stream",
     "text": [
      "(array([0, 2, 4, 6], dtype=int64),)\n"
     ]
    }
   ],
   "source": [
    "import numpy as np\n",
    "\n",
    "arr = np.array([1, 2, 3, 4, 5, 6, 7, 8])\n",
    "\n",
    "x = np.where(arr%2 == 1)\n",
    "\n",
    "print(x)"
   ]
  },
  {
   "cell_type": "markdown",
   "id": "36925470",
   "metadata": {},
   "source": [
    "### NumPy Sorting Arrays"
   ]
  },
  {
   "cell_type": "markdown",
   "id": "bf5b434b",
   "metadata": {},
   "source": [
    "Sorting means putting elements in an ordered sequence.\n",
    "\n",
    "Ordered sequence is any sequence that has an order corresponding to elements, like numeric or alphabetical, ascending or descending.\n",
    "\n",
    "The NumPy ndarray object has a function called sort(), that will sort a specified array."
   ]
  },
  {
   "cell_type": "code",
   "execution_count": 41,
   "id": "5c22e352",
   "metadata": {},
   "outputs": [
    {
     "name": "stdout",
     "output_type": "stream",
     "text": [
      "[0 1 2 3]\n",
      "None\n"
     ]
    }
   ],
   "source": [
    "import numpy as np\n",
    "\n",
    "arr = np.array([3, 2, 0, 1])\n",
    "\n",
    "print(np.sort(arr))\n",
    "print(arr.sort())"
   ]
  },
  {
   "cell_type": "code",
   "execution_count": 42,
   "id": "9811722e",
   "metadata": {},
   "outputs": [
    {
     "name": "stdout",
     "output_type": "stream",
     "text": [
      "['apple' 'banana' 'cherry']\n"
     ]
    }
   ],
   "source": [
    "import numpy as np\n",
    "\n",
    "arr = np.array(['banana', 'cherry', 'apple'])\n",
    "\n",
    "print(np.sort(arr))"
   ]
  },
  {
   "cell_type": "code",
   "execution_count": 43,
   "id": "098870fa",
   "metadata": {},
   "outputs": [
    {
     "name": "stdout",
     "output_type": "stream",
     "text": [
      "[[2 3 4]\n",
      " [0 1 5]]\n"
     ]
    }
   ],
   "source": [
    "#If you use the sort() method on a 2-D array, both arrays will be sorted:\n",
    "import numpy as np\n",
    "\n",
    "arr = np.array([[3, 2, 4], [5, 0, 1]])\n",
    "\n",
    "print(np.sort(arr))"
   ]
  },
  {
   "cell_type": "markdown",
   "id": "65807723",
   "metadata": {},
   "source": [
    "# `PANDAS NOTES`"
   ]
  },
  {
   "cell_type": "markdown",
   "id": "211359a3",
   "metadata": {},
   "source": [
    "Pandas is the most popular Python library for data analysis. It has functions for analyzing, cleaning, exploring, and manipulating data.Pandas allows us to analyze big data and make conclusions based on statistical theories.\n",
    "\n",
    "Pandas can clean messy data sets, and make them readable and relevant.\n",
    "\n",
    "*Install pandas using command : pip install pandas* "
   ]
  },
  {
   "cell_type": "markdown",
   "id": "2995f344",
   "metadata": {},
   "source": [
    "## `Getting Started`\n",
    "\n",
    "To use pandas, you'll typically start with the following line of code."
   ]
  },
  {
   "cell_type": "markdown",
   "id": "4d72a17b",
   "metadata": {},
   "source": [
    "import pandas as pd"
   ]
  },
  {
   "cell_type": "markdown",
   "id": "3f23613c",
   "metadata": {},
   "source": [
    "### There are two core objects in pandas: the DataFrame and the Series."
   ]
  },
  {
   "cell_type": "markdown",
   "id": "50ba382d",
   "metadata": {},
   "source": [
    "**1.Pandas Series:** A Pandas Series is like a column in a table.<br>It is a one-dimensional array holding data of any type.\n",
    "    "
   ]
  },
  {
   "cell_type": "code",
   "execution_count": 45,
   "id": "e4f16dc1",
   "metadata": {},
   "outputs": [
    {
     "name": "stdout",
     "output_type": "stream",
     "text": [
      "0    1\n",
      "1    7\n",
      "2    2\n",
      "dtype: int64\n"
     ]
    }
   ],
   "source": [
    "  \n",
    "import pandas as pd\n",
    "\n",
    "a = [1, 7, 2]\n",
    "\n",
    "myvar = pd.Series(a)\n",
    "\n",
    "print(myvar)"
   ]
  },
  {
   "cell_type": "markdown",
   "id": "0da05b25",
   "metadata": {},
   "source": [
    "**2.Pandas Dataframe:** A Pandas DataFrame is a 2 dimensional data structure, like a 2 dimensional array, or a table with rows and columns."
   ]
  },
  {
   "cell_type": "code",
   "execution_count": 47,
   "id": "d48f3c04",
   "metadata": {},
   "outputs": [
    {
     "name": "stdout",
     "output_type": "stream",
     "text": [
      "   calories  duration\n",
      "0       420        50\n",
      "1       380        40\n",
      "2       390        45\n"
     ]
    }
   ],
   "source": [
    "import pandas as pd\n",
    "\n",
    "data = {\n",
    "  \"calories\": [420, 380, 390],\n",
    "  \"duration\": [50, 40, 45]\n",
    "}\n",
    "\n",
    "#load data into a DataFrame object:\n",
    "df = pd.DataFrame(data)\n",
    "\n",
    "print(df)"
   ]
  },
  {
   "cell_type": "markdown",
   "id": "cbd4efca",
   "metadata": {},
   "source": [
    "**You can see by default indexes are integers starting from 0. But with the index argument, you can name your own indexes like:**"
   ]
  },
  {
   "cell_type": "code",
   "execution_count": 48,
   "id": "b1fa3a8e",
   "metadata": {},
   "outputs": [
    {
     "name": "stdout",
     "output_type": "stream",
     "text": [
      "      calories  duration\n",
      "day1       420        50\n",
      "day2       380        40\n",
      "day3       390        45\n"
     ]
    }
   ],
   "source": [
    "import pandas as pd\n",
    "\n",
    "data = {\n",
    "  \"calories\": [420, 380, 390],\n",
    "  \"duration\": [50, 40, 45]\n",
    "}\n",
    "\n",
    "df = pd.DataFrame(data, index = [\"day1\", \"day2\", \"day3\"])\n",
    "\n",
    "print(df) "
   ]
  },
  {
   "cell_type": "markdown",
   "id": "b3398f61",
   "metadata": {},
   "source": [
    "## Pandas Read CSV"
   ]
  },
  {
   "cell_type": "markdown",
   "id": "647dfdc1",
   "metadata": {},
   "source": [
    "A simple way to store big data sets is to use CSV files (comma separated files).CSV files contains plain text and is a well know format that can be read by everyone including Pandas.\n",
    "Using pd.read_csv method, we can read csv files.\n",
    "\n",
    "**Load the CSV into a DataFrame:**"
   ]
  },
  {
   "cell_type": "markdown",
   "id": "ae0933a5",
   "metadata": {},
   "source": [
    "import pandas as pd\n",
    "\n",
    "df = pd.read_csv('data.csv')\n",
    "\n",
    "print(df.to_string()) "
   ]
  },
  {
   "cell_type": "markdown",
   "id": "768c1ad7",
   "metadata": {},
   "source": [
    "If you have a large DataFrame with many rows, Pandas will only return the first 5 rows, and the last 5 rows\n",
    "\n",
    "**use to_string()  to print the entire DataFrame**"
   ]
  },
  {
   "cell_type": "markdown",
   "id": "1a82ec27",
   "metadata": {},
   "source": [
    "## Pandas - Analyzing DataFrames"
   ]
  },
  {
   "cell_type": "markdown",
   "id": "b53f8c50",
   "metadata": {},
   "source": [
    "**head()**\n",
    "\n",
    "The head() method returns the headers and a specified number of rows, starting from the top.\n",
    "\n",
    "import pandas as pd\n",
    "\n",
    "df = pd.read_csv('data.csv')\n",
    "\n",
    "`print(df.head(10))`"
   ]
  },
  {
   "cell_type": "markdown",
   "id": "7780c583",
   "metadata": {},
   "source": [
    "**tail()**\n",
    "\n",
    "The tail() method returns the headers and a specified number of rows, starting from the bottom.\n",
    "\n",
    "`print(df.tail())`"
   ]
  },
  {
   "cell_type": "markdown",
   "id": "0dbe66bc",
   "metadata": {},
   "source": [
    "**info about the data**\n",
    "\n",
    "The DataFrames object has a method called info(), that gives you more information about the data set.\n",
    "\n",
    "`print(df.info())`"
   ]
  },
  {
   "cell_type": "markdown",
   "id": "75a3dc9e",
   "metadata": {},
   "source": [
    "**Statistical info about the data**\n",
    "\n",
    "The DataFrames object has a method called describe(), that gives you statistical information about the data set like mean, median, mode, standard deviation etc\n",
    "\n",
    "`print(df.describe())`\n"
   ]
  },
  {
   "cell_type": "markdown",
   "id": "623e1db9",
   "metadata": {},
   "source": [
    "## Pandas - Cleaning Data"
   ]
  },
  {
   "cell_type": "markdown",
   "id": "3c14bf27",
   "metadata": {},
   "source": [
    "Data Cleaning\n",
    "Data cleaning means fixing bad data in your data set.\n",
    "\n",
    "Bad data could be:\n",
    "<ul>\n",
    "<li>Empty cells</li>\n",
    "<li>Data in wrong format</li>\n",
    "<li>Wrong data</li>\n",
    "<li>Duplicates</li>\n",
    "</ul>"
   ]
  },
  {
   "cell_type": "code",
   "execution_count": 1,
   "id": "4275948e",
   "metadata": {},
   "outputs": [
    {
     "data": {
      "text/html": [
       "<div>\n",
       "<style scoped>\n",
       "    .dataframe tbody tr th:only-of-type {\n",
       "        vertical-align: middle;\n",
       "    }\n",
       "\n",
       "    .dataframe tbody tr th {\n",
       "        vertical-align: top;\n",
       "    }\n",
       "\n",
       "    .dataframe thead th {\n",
       "        text-align: right;\n",
       "    }\n",
       "</style>\n",
       "<table border=\"1\" class=\"dataframe\">\n",
       "  <thead>\n",
       "    <tr style=\"text-align: right;\">\n",
       "      <th></th>\n",
       "      <th>Duration</th>\n",
       "      <th>Date</th>\n",
       "      <th>Pulse</th>\n",
       "      <th>Maxpulse</th>\n",
       "      <th>Calories</th>\n",
       "    </tr>\n",
       "  </thead>\n",
       "  <tbody>\n",
       "    <tr>\n",
       "      <th>0</th>\n",
       "      <td>60</td>\n",
       "      <td>'2020/12/01'</td>\n",
       "      <td>110</td>\n",
       "      <td>130</td>\n",
       "      <td>409.1</td>\n",
       "    </tr>\n",
       "    <tr>\n",
       "      <th>1</th>\n",
       "      <td>60</td>\n",
       "      <td>'2020/12/02'</td>\n",
       "      <td>117</td>\n",
       "      <td>145</td>\n",
       "      <td>479.0</td>\n",
       "    </tr>\n",
       "    <tr>\n",
       "      <th>2</th>\n",
       "      <td>60</td>\n",
       "      <td>'2020/12/03'</td>\n",
       "      <td>103</td>\n",
       "      <td>135</td>\n",
       "      <td>340.0</td>\n",
       "    </tr>\n",
       "    <tr>\n",
       "      <th>3</th>\n",
       "      <td>45</td>\n",
       "      <td>'2020/12/04'</td>\n",
       "      <td>109</td>\n",
       "      <td>175</td>\n",
       "      <td>282.4</td>\n",
       "    </tr>\n",
       "    <tr>\n",
       "      <th>4</th>\n",
       "      <td>45</td>\n",
       "      <td>'2020/12/05'</td>\n",
       "      <td>117</td>\n",
       "      <td>148</td>\n",
       "      <td>406.0</td>\n",
       "    </tr>\n",
       "  </tbody>\n",
       "</table>\n",
       "</div>"
      ],
      "text/plain": [
       "   Duration          Date  Pulse  Maxpulse  Calories\n",
       "0        60  '2020/12/01'    110       130     409.1\n",
       "1        60  '2020/12/02'    117       145     479.0\n",
       "2        60  '2020/12/03'    103       135     340.0\n",
       "3        45  '2020/12/04'    109       175     282.4\n",
       "4        45  '2020/12/05'    117       148     406.0"
      ]
     },
     "execution_count": 1,
     "metadata": {},
     "output_type": "execute_result"
    }
   ],
   "source": [
    "import pandas as pd\n",
    "df=pd.read_csv(\"dirtydata.csv\")\n",
    "df.head()"
   ]
  },
  {
   "cell_type": "markdown",
   "id": "202fa777",
   "metadata": {},
   "source": [
    "![](dataset.png)"
   ]
  },
  {
   "cell_type": "markdown",
   "id": "fa95ea37",
   "metadata": {},
   "source": [
    "The data set contains some empty cells (\"Date\" in row 22, and \"Calories\" in row 18 and 28).\n",
    "\n",
    "The data set contains wrong format (\"Date\" in row 26).\n",
    "\n",
    "The data set contains wrong data (\"Duration\" in row 7).\n",
    "\n",
    "The data set contains duplicates (row 11 and 12)."
   ]
  },
  {
   "cell_type": "markdown",
   "id": "dbc2a67c",
   "metadata": {},
   "source": [
    "## Pandas - Cleaning Empty Cells"
   ]
  },
  {
   "cell_type": "markdown",
   "id": "f755948c",
   "metadata": {},
   "source": [
    "**Empty Cells**\n",
    "Empty cells can potentially give you a wrong result when you analyze data.\n",
    "\n",
    "**Remove Rows**\n",
    "One way to deal with empty cells is to remove rows that contain empty cells.\n",
    "\n",
    "This is usually OK, since data sets can be very big, and removing a few rows will not have a big impact on the result.\n"
   ]
  },
  {
   "cell_type": "code",
   "execution_count": 15,
   "id": "0968f476",
   "metadata": {},
   "outputs": [
    {
     "name": "stdout",
     "output_type": "stream",
     "text": [
      "     Duration  Pulse  Maxpulse  Calories\n",
      "0          60    110       130     409.1\n",
      "1          60    117       145     479.0\n",
      "2          60    103       135     340.0\n",
      "3          45    109       175     282.4\n",
      "4          45    117       148     406.0\n",
      "5          60    102       127     300.0\n",
      "6          60    110       136     374.0\n",
      "7          45    104       134     253.3\n",
      "8          30    109       133     195.1\n",
      "9          60     98       124     269.0\n",
      "10         60    103       147     329.3\n",
      "11         60    100       120     250.7\n",
      "12         60    106       128     345.3\n",
      "13         60    104       132     379.3\n",
      "14         60     98       123     275.0\n",
      "15         60     98       120     215.2\n",
      "16         60    100       120     300.0\n",
      "18         60    103       123     323.0\n",
      "19         45     97       125     243.0\n",
      "20         60    108       131     364.2\n",
      "21         45    100       119     282.0\n",
      "22         60    130       101     300.0\n",
      "23         45    105       132     246.0\n",
      "24         60    102       126     334.5\n",
      "25         60    100       120     250.0\n",
      "26         60     92       118     241.0\n",
      "28         60    100       132     280.0\n",
      "29         60    102       129     380.3\n",
      "30         60     92       115     243.0\n",
      "31         45     90       112     180.1\n",
      "32         60    101       124     299.0\n",
      "33         60     93       113     223.0\n",
      "34         60    107       136     361.0\n",
      "35         60    114       140     415.0\n",
      "36         60    102       127     300.0\n",
      "37         60    100       120     300.0\n",
      "38         60    100       120     300.0\n",
      "39         45    104       129     266.0\n",
      "40         45     90       112     180.1\n",
      "41         60     98       126     286.0\n",
      "42         60    100       122     329.4\n",
      "43         60    111       138     400.0\n",
      "44         60    111       131     397.0\n",
      "45         60     99       119     273.0\n",
      "46         60    109       153     387.6\n",
      "47         45    111       136     300.0\n",
      "48         45    108       129     298.0\n",
      "49         60    111       139     397.6\n",
      "50         60    107       136     380.2\n",
      "51         80    123       146     643.1\n",
      "52         60    106       130     263.0\n",
      "53         60    118       151     486.0\n",
      "54         30    136       175     238.0\n",
      "55         60    121       146     450.7\n",
      "56         60    118       121     413.0\n",
      "57         45    115       144     305.0\n",
      "58         20    153       172     226.4\n",
      "59         45    123       152     321.0\n",
      "60        210    108       160    1376.0\n",
      "61        160    110       137    1034.4\n",
      "62        160    109       135     853.0\n",
      "63         45    118       141     341.0\n",
      "64         20    110       130     131.4\n",
      "65        180     90       130     800.4\n",
      "66        150    105       135     873.4\n",
      "67        150    107       130     816.0\n",
      "68         20    106       136     110.4\n",
      "69        300    108       143    1500.2\n",
      "70        150     97       129    1115.0\n",
      "71         60    109       153     387.6\n",
      "72         90    100       127     700.0\n",
      "73        150     97       127     953.2\n",
      "74         45    114       146     304.0\n",
      "75         90     98       125     563.2\n",
      "76         45    105       134     251.0\n",
      "77         45    110       141     300.0\n",
      "78        120    100       130     500.4\n",
      "79        270    100       131    1729.0\n",
      "80         30    159       182     319.2\n",
      "81         45    149       169     344.0\n",
      "82         30    103       139     151.1\n",
      "83        120    100       130     500.0\n",
      "84         45    100       120     225.3\n",
      "85         30    151       170     300.0\n",
      "86         45    102       136     234.0\n",
      "87        120    100       157    1000.1\n",
      "88         45    129       103     242.0\n",
      "89         20     83       107      50.3\n",
      "90        180    101       127     600.1\n",
      "92         30     90       107     105.3\n",
      "93         15     80       100      50.5\n",
      "94         20    150       171     127.4\n",
      "95         20    151       168     229.4\n",
      "96         30     95       128     128.2\n",
      "97         25    152       168     244.2\n",
      "98         30    109       131     188.2\n",
      "99         90     93       124     604.1\n",
      "100        20     95       112      77.7\n",
      "101        90     90       110     500.0\n",
      "102        90     90       100     500.0\n",
      "103        90     90       100     500.4\n",
      "104        30     92       108      92.7\n",
      "105        30     93       128     124.0\n",
      "106       180     90       120     800.3\n",
      "107        30     90       120      86.2\n",
      "108        90     90       120     500.3\n",
      "109       210    137       184    1860.4\n",
      "110        60    102       124     325.2\n",
      "111        45    107       124     275.0\n",
      "112        15    124       139     124.2\n",
      "113        45    100       120     225.3\n",
      "114        60    108       131     367.6\n",
      "115        60    108       151     351.7\n",
      "116        60    116       141     443.0\n",
      "117        60     97       122     277.4\n",
      "119        60    103       124     332.7\n",
      "120        30    112       137     193.9\n",
      "121        45    100       120     100.7\n",
      "122        60    119       169     336.7\n",
      "123        60    107       127     344.9\n",
      "124        60    111       151     368.5\n",
      "125        60     98       122     271.0\n",
      "126        60     97       124     275.3\n",
      "127        60    109       127     382.0\n",
      "128        90     99       125     466.4\n",
      "129        60    114       151     384.0\n",
      "130        60    104       134     342.5\n",
      "131        60    107       138     357.5\n",
      "132        60    103       133     335.0\n",
      "133        60    106       132     327.5\n",
      "134        60    103       136     339.0\n",
      "135        20    136       156     189.0\n",
      "136        45    117       143     317.7\n",
      "137        45    115       137     318.0\n",
      "138        45    113       138     308.0\n",
      "139        20    141       162     222.4\n",
      "140        60    108       135     390.0\n",
      "142        45    100       120     250.4\n",
      "143        45    122       149     335.4\n",
      "144        60    136       170     470.2\n",
      "145        45    106       126     270.8\n",
      "146        60    107       136     400.0\n",
      "147        60    112       146     361.9\n",
      "148        30    103       127     185.0\n",
      "149        60    110       150     409.4\n",
      "150        60    106       134     343.0\n",
      "151        60    109       129     353.2\n",
      "152        60    109       138     374.0\n",
      "153        30    150       167     275.8\n",
      "154        60    105       128     328.0\n",
      "155        60    111       151     368.5\n",
      "156        60     97       131     270.4\n",
      "157        60    100       120     270.4\n",
      "158        60    114       150     382.8\n",
      "159        30     80       120     240.9\n",
      "160        30     85       120     250.4\n",
      "161        45     90       130     260.4\n",
      "162        45     95       130     270.0\n",
      "163        45    100       140     280.9\n",
      "164        60    105       140     290.8\n",
      "165        60    110       145     300.0\n",
      "166        60    115       145     310.2\n",
      "167        75    120       150     320.4\n",
      "168        75    125       150     330.4\n"
     ]
    }
   ],
   "source": [
    "#Return a new Data Frame with no empty cells:\n",
    "\n",
    "import pandas as pd\n",
    "\n",
    "df = pd.read_csv('data.csv')\n",
    "\n",
    "new_df = df.dropna()\n",
    "\n",
    "print(new_df.to_string())"
   ]
  },
  {
   "cell_type": "markdown",
   "id": "6b53c08a",
   "metadata": {},
   "source": [
    "**Note: By default, the dropna() method returns a new DataFrame, and will not change the original.\n",
    "If you want to change the original DataFrame, use the inplace = True argument**"
   ]
  },
  {
   "cell_type": "code",
   "execution_count": 14,
   "id": "38090432",
   "metadata": {},
   "outputs": [
    {
     "name": "stdout",
     "output_type": "stream",
     "text": [
      "     Duration  Pulse  Maxpulse  Calories\n",
      "0          60    110       130     409.1\n",
      "1          60    117       145     479.0\n",
      "2          60    103       135     340.0\n",
      "3          45    109       175     282.4\n",
      "4          45    117       148     406.0\n",
      "5          60    102       127     300.0\n",
      "6          60    110       136     374.0\n",
      "7          45    104       134     253.3\n",
      "8          30    109       133     195.1\n",
      "9          60     98       124     269.0\n",
      "10         60    103       147     329.3\n",
      "11         60    100       120     250.7\n",
      "12         60    106       128     345.3\n",
      "13         60    104       132     379.3\n",
      "14         60     98       123     275.0\n",
      "15         60     98       120     215.2\n",
      "16         60    100       120     300.0\n",
      "18         60    103       123     323.0\n",
      "19         45     97       125     243.0\n",
      "20         60    108       131     364.2\n",
      "21         45    100       119     282.0\n",
      "22         60    130       101     300.0\n",
      "23         45    105       132     246.0\n",
      "24         60    102       126     334.5\n",
      "25         60    100       120     250.0\n",
      "26         60     92       118     241.0\n",
      "28         60    100       132     280.0\n",
      "29         60    102       129     380.3\n",
      "30         60     92       115     243.0\n",
      "31         45     90       112     180.1\n",
      "32         60    101       124     299.0\n",
      "33         60     93       113     223.0\n",
      "34         60    107       136     361.0\n",
      "35         60    114       140     415.0\n",
      "36         60    102       127     300.0\n",
      "37         60    100       120     300.0\n",
      "38         60    100       120     300.0\n",
      "39         45    104       129     266.0\n",
      "40         45     90       112     180.1\n",
      "41         60     98       126     286.0\n",
      "42         60    100       122     329.4\n",
      "43         60    111       138     400.0\n",
      "44         60    111       131     397.0\n",
      "45         60     99       119     273.0\n",
      "46         60    109       153     387.6\n",
      "47         45    111       136     300.0\n",
      "48         45    108       129     298.0\n",
      "49         60    111       139     397.6\n",
      "50         60    107       136     380.2\n",
      "51         80    123       146     643.1\n",
      "52         60    106       130     263.0\n",
      "53         60    118       151     486.0\n",
      "54         30    136       175     238.0\n",
      "55         60    121       146     450.7\n",
      "56         60    118       121     413.0\n",
      "57         45    115       144     305.0\n",
      "58         20    153       172     226.4\n",
      "59         45    123       152     321.0\n",
      "60        210    108       160    1376.0\n",
      "61        160    110       137    1034.4\n",
      "62        160    109       135     853.0\n",
      "63         45    118       141     341.0\n",
      "64         20    110       130     131.4\n",
      "65        180     90       130     800.4\n",
      "66        150    105       135     873.4\n",
      "67        150    107       130     816.0\n",
      "68         20    106       136     110.4\n",
      "69        300    108       143    1500.2\n",
      "70        150     97       129    1115.0\n",
      "71         60    109       153     387.6\n",
      "72         90    100       127     700.0\n",
      "73        150     97       127     953.2\n",
      "74         45    114       146     304.0\n",
      "75         90     98       125     563.2\n",
      "76         45    105       134     251.0\n",
      "77         45    110       141     300.0\n",
      "78        120    100       130     500.4\n",
      "79        270    100       131    1729.0\n",
      "80         30    159       182     319.2\n",
      "81         45    149       169     344.0\n",
      "82         30    103       139     151.1\n",
      "83        120    100       130     500.0\n",
      "84         45    100       120     225.3\n",
      "85         30    151       170     300.0\n",
      "86         45    102       136     234.0\n",
      "87        120    100       157    1000.1\n",
      "88         45    129       103     242.0\n",
      "89         20     83       107      50.3\n",
      "90        180    101       127     600.1\n",
      "92         30     90       107     105.3\n",
      "93         15     80       100      50.5\n",
      "94         20    150       171     127.4\n",
      "95         20    151       168     229.4\n",
      "96         30     95       128     128.2\n",
      "97         25    152       168     244.2\n",
      "98         30    109       131     188.2\n",
      "99         90     93       124     604.1\n",
      "100        20     95       112      77.7\n",
      "101        90     90       110     500.0\n",
      "102        90     90       100     500.0\n",
      "103        90     90       100     500.4\n",
      "104        30     92       108      92.7\n",
      "105        30     93       128     124.0\n",
      "106       180     90       120     800.3\n",
      "107        30     90       120      86.2\n",
      "108        90     90       120     500.3\n",
      "109       210    137       184    1860.4\n",
      "110        60    102       124     325.2\n",
      "111        45    107       124     275.0\n",
      "112        15    124       139     124.2\n",
      "113        45    100       120     225.3\n",
      "114        60    108       131     367.6\n",
      "115        60    108       151     351.7\n",
      "116        60    116       141     443.0\n",
      "117        60     97       122     277.4\n",
      "119        60    103       124     332.7\n",
      "120        30    112       137     193.9\n",
      "121        45    100       120     100.7\n",
      "122        60    119       169     336.7\n",
      "123        60    107       127     344.9\n",
      "124        60    111       151     368.5\n",
      "125        60     98       122     271.0\n",
      "126        60     97       124     275.3\n",
      "127        60    109       127     382.0\n",
      "128        90     99       125     466.4\n",
      "129        60    114       151     384.0\n",
      "130        60    104       134     342.5\n",
      "131        60    107       138     357.5\n",
      "132        60    103       133     335.0\n",
      "133        60    106       132     327.5\n",
      "134        60    103       136     339.0\n",
      "135        20    136       156     189.0\n",
      "136        45    117       143     317.7\n",
      "137        45    115       137     318.0\n",
      "138        45    113       138     308.0\n",
      "139        20    141       162     222.4\n",
      "140        60    108       135     390.0\n",
      "142        45    100       120     250.4\n",
      "143        45    122       149     335.4\n",
      "144        60    136       170     470.2\n",
      "145        45    106       126     270.8\n",
      "146        60    107       136     400.0\n",
      "147        60    112       146     361.9\n",
      "148        30    103       127     185.0\n",
      "149        60    110       150     409.4\n",
      "150        60    106       134     343.0\n",
      "151        60    109       129     353.2\n",
      "152        60    109       138     374.0\n",
      "153        30    150       167     275.8\n",
      "154        60    105       128     328.0\n",
      "155        60    111       151     368.5\n",
      "156        60     97       131     270.4\n",
      "157        60    100       120     270.4\n",
      "158        60    114       150     382.8\n",
      "159        30     80       120     240.9\n",
      "160        30     85       120     250.4\n",
      "161        45     90       130     260.4\n",
      "162        45     95       130     270.0\n",
      "163        45    100       140     280.9\n",
      "164        60    105       140     290.8\n",
      "165        60    110       145     300.0\n",
      "166        60    115       145     310.2\n",
      "167        75    120       150     320.4\n",
      "168        75    125       150     330.4\n"
     ]
    }
   ],
   "source": [
    "#Remove all rows with NULL values:\n",
    "import pandas as pd\n",
    "\n",
    "df = pd.read_csv('data.csv')\n",
    "\n",
    "df.dropna(inplace = True)\n",
    "\n",
    "print(df.to_string())"
   ]
  },
  {
   "cell_type": "markdown",
   "id": "fde6120f",
   "metadata": {},
   "source": [
    "Another way of dealing with empty cells is to insert a new value instead.\n",
    "This way you do not have to delete entire rows just because of some empty cells.\n",
    "**The fillna() method allows us to replace empty cells with a value**"
   ]
  },
  {
   "cell_type": "code",
   "execution_count": 16,
   "id": "1f22cc99",
   "metadata": {},
   "outputs": [],
   "source": [
    "#Replace NULL values with the number 130:\n",
    "import pandas as pd\n",
    "\n",
    "df = pd.read_csv('data.csv')\n",
    "\n",
    "df.fillna(130, inplace = True)"
   ]
  },
  {
   "cell_type": "code",
   "execution_count": 1,
   "id": "16d8f139",
   "metadata": {},
   "outputs": [],
   "source": [
    "#Replace Only For Specified Columns\n",
    "import pandas as pd\n",
    "\n",
    "df = pd.read_csv('data.csv')\n",
    "\n",
    "df[\"Calories\"].fillna(130, inplace = True)"
   ]
  },
  {
   "cell_type": "code",
   "execution_count": 2,
   "id": "8229a878",
   "metadata": {},
   "outputs": [],
   "source": [
    "#Replace Using Mean, Median, or Mode\n",
    "import pandas as pd\n",
    "\n",
    "df = pd.read_csv('data.csv')\n",
    "\n",
    "x = df[\"Calories\"].mean()\n",
    "\n",
    "df[\"Calories\"].fillna(x, inplace = True)"
   ]
  },
  {
   "cell_type": "markdown",
   "id": "ec358ac9",
   "metadata": {},
   "source": [
    "## Pandas - Cleaning Data of Wrong Format"
   ]
  },
  {
   "cell_type": "markdown",
   "id": "1493f5ae",
   "metadata": {},
   "source": [
    "Cells with data of wrong format can make it difficult, or even impossible, to analyze data.\n",
    "\n",
    "To fix it, you have two options: remove the rows, or convert all cells in the columns into the same format."
   ]
  },
  {
   "cell_type": "markdown",
   "id": "7e7d36d3",
   "metadata": {},
   "source": [
    "**Convert Into a Correct Format**\n",
    "\n",
    "In our Data Frame, we have two cells with the wrong format. Check out row 22 and 26, the 'Date' column should be a string that represents a date:\n",
    "\n",
    "Let's try to convert all cells in the 'Date' column into dates.\n",
    "\n",
    "*Pandas has a to_datetime() method for this:*"
   ]
  },
  {
   "cell_type": "code",
   "execution_count": 2,
   "id": "4c90f79a",
   "metadata": {},
   "outputs": [
    {
     "name": "stdout",
     "output_type": "stream",
     "text": [
      "    Duration       Date  Pulse  Maxpulse  Calories\n",
      "0         60 2020-12-01    110       130     409.1\n",
      "1         60 2020-12-02    117       145     479.0\n",
      "2         60 2020-12-03    103       135     340.0\n",
      "3         45 2020-12-04    109       175     282.4\n",
      "4         45 2020-12-05    117       148     406.0\n",
      "5         60 2020-12-06    102       127     300.0\n",
      "6         60 2020-12-07    110       136     374.0\n",
      "7        450 2020-12-08    104       134     253.3\n",
      "8         30 2020-12-09    109       133     195.1\n",
      "9         60 2020-12-10     98       124     269.0\n",
      "10        60 2020-12-11    103       147     329.3\n",
      "11        60 2020-12-12    100       120     250.7\n",
      "12        60 2020-12-12    100       120     250.7\n",
      "13        60 2020-12-13    106       128     345.3\n",
      "14        60 2020-12-14    104       132     379.3\n",
      "15        60 2020-12-15     98       123     275.0\n",
      "16        60 2020-12-16     98       120     215.2\n",
      "17        60 2020-12-17    100       120     300.0\n",
      "18        45 2020-12-18     90       112       NaN\n",
      "19        60 2020-12-19    103       123     323.0\n",
      "20        45 2020-12-20     97       125     243.0\n",
      "21        60 2020-12-21    108       131     364.2\n",
      "22        45        NaT    100       119     282.0\n",
      "23        60 2020-12-23    130       101     300.0\n",
      "24        45 2020-12-24    105       132     246.0\n",
      "25        60 2020-12-25    102       126     334.5\n",
      "26        60 2020-12-26    100       120     250.0\n",
      "27        60 2020-12-27     92       118     241.0\n",
      "28        60 2020-12-28    103       132       NaN\n",
      "29        60 2020-12-29    100       132     280.0\n",
      "30        60 2020-12-30    102       129     380.3\n",
      "31        60 2020-12-31     92       115     243.0\n"
     ]
    }
   ],
   "source": [
    "#Convert to date:\n",
    "\n",
    "import pandas as pd\n",
    "\n",
    "df = pd.read_csv('dirtydata.csv')\n",
    "\n",
    "df['Date'] = pd.to_datetime(df['Date'])\n",
    "\n",
    "print(df.to_string())"
   ]
  },
  {
   "cell_type": "markdown",
   "id": "73997080",
   "metadata": {},
   "source": [
    "As you can see from the result, the date in row 26 was fixed, but the empty date in row 22 got a NaT (Not a Time) value, in other words an empty value. One way to deal with empty values is simply removing the entire row."
   ]
  },
  {
   "cell_type": "markdown",
   "id": "f8fb1449",
   "metadata": {},
   "source": [
    "The result from the converting in the example above gave us a NaT value, which can be handled as a NULL value, and we can remove the row by using the dropna() method."
   ]
  },
  {
   "cell_type": "code",
   "execution_count": 11,
   "id": "254e12e1",
   "metadata": {},
   "outputs": [],
   "source": [
    "#Remove rows with a NULL value in the \"Date\" column:\n",
    "\n",
    "df.dropna(subset=['Date'], inplace = True)\n"
   ]
  },
  {
   "cell_type": "markdown",
   "id": "fb7a5bcd",
   "metadata": {},
   "source": [
    "## Pandas - Fixing Wrong Data"
   ]
  },
  {
   "cell_type": "markdown",
   "id": "37cf899b",
   "metadata": {},
   "source": [
    "\"Wrong data\" does not have to be \"empty cells\" or \"wrong format\", it can just be wrong, like if someone registered \"199\" instead of \"1.99\".\n",
    "\n",
    "Sometimes you can spot wrong data by looking at the data set, because you have an expectation of what it should be.\n",
    "\n",
    "If you take a look at our data set, you can see that in row 7, the duration is 450, but for all the other rows the duration is between 30 and 60.\n",
    "\n",
    "It doesn't have to be wrong, but taking in consideration that this is the data set of someone's workout sessions, we conclude with the fact that this person did not work out in 450 minutes."
   ]
  },
  {
   "cell_type": "markdown",
   "id": "d289e9ec",
   "metadata": {},
   "source": [
    "**Replacing Values**\n",
    "\n",
    "One way to fix wrong values is to replace them with something else.\n",
    "In our example, it is most likely a typo, and the value should be \"45\" instead of \"450\", and we could just insert \"45\" in row 7"
   ]
  },
  {
   "cell_type": "code",
   "execution_count": 6,
   "id": "efc48fa5",
   "metadata": {},
   "outputs": [],
   "source": [
    "#Set \"Duration\" = 45 in row 7:\n",
    "\n",
    "df.loc[7, 'Duration'] = 45"
   ]
  },
  {
   "cell_type": "markdown",
   "id": "cf11b842",
   "metadata": {},
   "source": [
    "For small data sets you might be able to replace the wrong data one by one, but not for big data sets.\n",
    "\n",
    "To replace wrong data for larger data sets you can create some rules, e.g. set some boundaries for legal values, and replace any values that are outside of the boundaries."
   ]
  },
  {
   "cell_type": "code",
   "execution_count": 7,
   "id": "eecca195",
   "metadata": {},
   "outputs": [],
   "source": [
    "#Loop through all values in the \"Duration\" column.\n",
    "\n",
    "#If the value is higher than 120, set it to 120:\n",
    "\n",
    "for x in df.index:\n",
    "  if df.loc[x, \"Duration\"] > 120:\n",
    "    df.loc[x, \"Duration\"] = 120"
   ]
  },
  {
   "cell_type": "markdown",
   "id": "ef6ffcb8",
   "metadata": {},
   "source": [
    "**Removing Rows**"
   ]
  },
  {
   "cell_type": "markdown",
   "id": "9476880c",
   "metadata": {},
   "source": [
    "Another way of handling wrong data is to remove the rows that contains wrong data.\n",
    "\n",
    "This way you do not have to find out what to replace them with, and there is a good chance you do not need them to do your analyses."
   ]
  },
  {
   "cell_type": "code",
   "execution_count": 9,
   "id": "3fa0e6a7",
   "metadata": {},
   "outputs": [],
   "source": [
    "#Delete rows where \"Duration\" is higher than 120:\n",
    "\n",
    "for x in df.index:\n",
    "  if df.loc[x, \"Duration\"] > 120:\n",
    "    df.drop(x, inplace = True)\n"
   ]
  },
  {
   "cell_type": "markdown",
   "id": "fe4fdae4",
   "metadata": {},
   "source": [
    "## Pandas - Removing Duplicates"
   ]
  },
  {
   "cell_type": "markdown",
   "id": "f3def083",
   "metadata": {},
   "source": [
    "To discover duplicates, we can use the duplicated() method.\n",
    "\n",
    "The duplicated() method returns a Boolean values for each row:\n",
    "\n",
    "Returns True for every row that is a duplicate, othwerwise False"
   ]
  },
  {
   "cell_type": "code",
   "execution_count": 7,
   "id": "7345d7b7",
   "metadata": {},
   "outputs": [
    {
     "data": {
      "text/plain": [
       "1"
      ]
     },
     "execution_count": 7,
     "metadata": {},
     "output_type": "execute_result"
    }
   ],
   "source": [
    "df.duplicated().sum()"
   ]
  },
  {
   "cell_type": "code",
   "execution_count": 4,
   "id": "91e8f115",
   "metadata": {},
   "outputs": [
    {
     "data": {
      "text/html": [
       "<div>\n",
       "<style scoped>\n",
       "    .dataframe tbody tr th:only-of-type {\n",
       "        vertical-align: middle;\n",
       "    }\n",
       "\n",
       "    .dataframe tbody tr th {\n",
       "        vertical-align: top;\n",
       "    }\n",
       "\n",
       "    .dataframe thead th {\n",
       "        text-align: right;\n",
       "    }\n",
       "</style>\n",
       "<table border=\"1\" class=\"dataframe\">\n",
       "  <thead>\n",
       "    <tr style=\"text-align: right;\">\n",
       "      <th></th>\n",
       "      <th>Duration</th>\n",
       "      <th>Date</th>\n",
       "      <th>Pulse</th>\n",
       "      <th>Maxpulse</th>\n",
       "      <th>Calories</th>\n",
       "    </tr>\n",
       "  </thead>\n",
       "  <tbody>\n",
       "    <tr>\n",
       "      <th>12</th>\n",
       "      <td>60</td>\n",
       "      <td>2020-12-12</td>\n",
       "      <td>100</td>\n",
       "      <td>120</td>\n",
       "      <td>250.7</td>\n",
       "    </tr>\n",
       "    <tr>\n",
       "      <th>17</th>\n",
       "      <td>60</td>\n",
       "      <td>2020-12-17</td>\n",
       "      <td>100</td>\n",
       "      <td>120</td>\n",
       "      <td>300.0</td>\n",
       "    </tr>\n",
       "    <tr>\n",
       "      <th>23</th>\n",
       "      <td>60</td>\n",
       "      <td>2020-12-23</td>\n",
       "      <td>130</td>\n",
       "      <td>101</td>\n",
       "      <td>300.0</td>\n",
       "    </tr>\n",
       "  </tbody>\n",
       "</table>\n",
       "</div>"
      ],
      "text/plain": [
       "    Duration       Date  Pulse  Maxpulse  Calories\n",
       "12        60 2020-12-12    100       120     250.7\n",
       "17        60 2020-12-17    100       120     300.0\n",
       "23        60 2020-12-23    130       101     300.0"
      ]
     },
     "execution_count": 4,
     "metadata": {},
     "output_type": "execute_result"
    }
   ],
   "source": [
    "duplicate = df[df.duplicated(['Duration', 'Calories'])]\n",
    "duplicate"
   ]
  },
  {
   "cell_type": "code",
   "execution_count": 5,
   "id": "53c8fb6c",
   "metadata": {},
   "outputs": [
    {
     "data": {
      "text/html": [
       "<div>\n",
       "<style scoped>\n",
       "    .dataframe tbody tr th:only-of-type {\n",
       "        vertical-align: middle;\n",
       "    }\n",
       "\n",
       "    .dataframe tbody tr th {\n",
       "        vertical-align: top;\n",
       "    }\n",
       "\n",
       "    .dataframe thead th {\n",
       "        text-align: right;\n",
       "    }\n",
       "</style>\n",
       "<table border=\"1\" class=\"dataframe\">\n",
       "  <thead>\n",
       "    <tr style=\"text-align: right;\">\n",
       "      <th></th>\n",
       "      <th>Duration</th>\n",
       "      <th>Date</th>\n",
       "      <th>Pulse</th>\n",
       "      <th>Maxpulse</th>\n",
       "      <th>Calories</th>\n",
       "    </tr>\n",
       "  </thead>\n",
       "  <tbody>\n",
       "    <tr>\n",
       "      <th>12</th>\n",
       "      <td>60</td>\n",
       "      <td>2020-12-12</td>\n",
       "      <td>100</td>\n",
       "      <td>120</td>\n",
       "      <td>250.7</td>\n",
       "    </tr>\n",
       "  </tbody>\n",
       "</table>\n",
       "</div>"
      ],
      "text/plain": [
       "    Duration       Date  Pulse  Maxpulse  Calories\n",
       "12        60 2020-12-12    100       120     250.7"
      ]
     },
     "execution_count": 5,
     "metadata": {},
     "output_type": "execute_result"
    }
   ],
   "source": [
    "#find the duplicated rows\n",
    "df.loc[df.duplicated(),:]"
   ]
  },
  {
   "cell_type": "code",
   "execution_count": 10,
   "id": "7a14ebf1",
   "metadata": {},
   "outputs": [
    {
     "data": {
      "text/html": [
       "<div>\n",
       "<style scoped>\n",
       "    .dataframe tbody tr th:only-of-type {\n",
       "        vertical-align: middle;\n",
       "    }\n",
       "\n",
       "    .dataframe tbody tr th {\n",
       "        vertical-align: top;\n",
       "    }\n",
       "\n",
       "    .dataframe thead th {\n",
       "        text-align: right;\n",
       "    }\n",
       "</style>\n",
       "<table border=\"1\" class=\"dataframe\">\n",
       "  <thead>\n",
       "    <tr style=\"text-align: right;\">\n",
       "      <th></th>\n",
       "      <th>Duration</th>\n",
       "      <th>Date</th>\n",
       "      <th>Pulse</th>\n",
       "      <th>Maxpulse</th>\n",
       "      <th>Calories</th>\n",
       "    </tr>\n",
       "  </thead>\n",
       "  <tbody>\n",
       "    <tr>\n",
       "      <th>0</th>\n",
       "      <td>60</td>\n",
       "      <td>2020-12-01</td>\n",
       "      <td>110</td>\n",
       "      <td>130</td>\n",
       "      <td>409.1</td>\n",
       "    </tr>\n",
       "    <tr>\n",
       "      <th>1</th>\n",
       "      <td>60</td>\n",
       "      <td>2020-12-02</td>\n",
       "      <td>117</td>\n",
       "      <td>145</td>\n",
       "      <td>479.0</td>\n",
       "    </tr>\n",
       "    <tr>\n",
       "      <th>2</th>\n",
       "      <td>60</td>\n",
       "      <td>2020-12-03</td>\n",
       "      <td>103</td>\n",
       "      <td>135</td>\n",
       "      <td>340.0</td>\n",
       "    </tr>\n",
       "    <tr>\n",
       "      <th>3</th>\n",
       "      <td>45</td>\n",
       "      <td>2020-12-04</td>\n",
       "      <td>109</td>\n",
       "      <td>175</td>\n",
       "      <td>282.4</td>\n",
       "    </tr>\n",
       "    <tr>\n",
       "      <th>4</th>\n",
       "      <td>45</td>\n",
       "      <td>2020-12-05</td>\n",
       "      <td>117</td>\n",
       "      <td>148</td>\n",
       "      <td>406.0</td>\n",
       "    </tr>\n",
       "    <tr>\n",
       "      <th>5</th>\n",
       "      <td>60</td>\n",
       "      <td>2020-12-06</td>\n",
       "      <td>102</td>\n",
       "      <td>127</td>\n",
       "      <td>300.0</td>\n",
       "    </tr>\n",
       "    <tr>\n",
       "      <th>6</th>\n",
       "      <td>60</td>\n",
       "      <td>2020-12-07</td>\n",
       "      <td>110</td>\n",
       "      <td>136</td>\n",
       "      <td>374.0</td>\n",
       "    </tr>\n",
       "    <tr>\n",
       "      <th>7</th>\n",
       "      <td>450</td>\n",
       "      <td>2020-12-08</td>\n",
       "      <td>104</td>\n",
       "      <td>134</td>\n",
       "      <td>253.3</td>\n",
       "    </tr>\n",
       "    <tr>\n",
       "      <th>8</th>\n",
       "      <td>30</td>\n",
       "      <td>2020-12-09</td>\n",
       "      <td>109</td>\n",
       "      <td>133</td>\n",
       "      <td>195.1</td>\n",
       "    </tr>\n",
       "    <tr>\n",
       "      <th>9</th>\n",
       "      <td>60</td>\n",
       "      <td>2020-12-10</td>\n",
       "      <td>98</td>\n",
       "      <td>124</td>\n",
       "      <td>269.0</td>\n",
       "    </tr>\n",
       "    <tr>\n",
       "      <th>10</th>\n",
       "      <td>60</td>\n",
       "      <td>2020-12-11</td>\n",
       "      <td>103</td>\n",
       "      <td>147</td>\n",
       "      <td>329.3</td>\n",
       "    </tr>\n",
       "    <tr>\n",
       "      <th>11</th>\n",
       "      <td>60</td>\n",
       "      <td>2020-12-12</td>\n",
       "      <td>100</td>\n",
       "      <td>120</td>\n",
       "      <td>250.7</td>\n",
       "    </tr>\n",
       "    <tr>\n",
       "      <th>13</th>\n",
       "      <td>60</td>\n",
       "      <td>2020-12-13</td>\n",
       "      <td>106</td>\n",
       "      <td>128</td>\n",
       "      <td>345.3</td>\n",
       "    </tr>\n",
       "    <tr>\n",
       "      <th>14</th>\n",
       "      <td>60</td>\n",
       "      <td>2020-12-14</td>\n",
       "      <td>104</td>\n",
       "      <td>132</td>\n",
       "      <td>379.3</td>\n",
       "    </tr>\n",
       "    <tr>\n",
       "      <th>15</th>\n",
       "      <td>60</td>\n",
       "      <td>2020-12-15</td>\n",
       "      <td>98</td>\n",
       "      <td>123</td>\n",
       "      <td>275.0</td>\n",
       "    </tr>\n",
       "    <tr>\n",
       "      <th>16</th>\n",
       "      <td>60</td>\n",
       "      <td>2020-12-16</td>\n",
       "      <td>98</td>\n",
       "      <td>120</td>\n",
       "      <td>215.2</td>\n",
       "    </tr>\n",
       "    <tr>\n",
       "      <th>17</th>\n",
       "      <td>60</td>\n",
       "      <td>2020-12-17</td>\n",
       "      <td>100</td>\n",
       "      <td>120</td>\n",
       "      <td>300.0</td>\n",
       "    </tr>\n",
       "    <tr>\n",
       "      <th>18</th>\n",
       "      <td>45</td>\n",
       "      <td>2020-12-18</td>\n",
       "      <td>90</td>\n",
       "      <td>112</td>\n",
       "      <td>NaN</td>\n",
       "    </tr>\n",
       "    <tr>\n",
       "      <th>19</th>\n",
       "      <td>60</td>\n",
       "      <td>2020-12-19</td>\n",
       "      <td>103</td>\n",
       "      <td>123</td>\n",
       "      <td>323.0</td>\n",
       "    </tr>\n",
       "    <tr>\n",
       "      <th>20</th>\n",
       "      <td>45</td>\n",
       "      <td>2020-12-20</td>\n",
       "      <td>97</td>\n",
       "      <td>125</td>\n",
       "      <td>243.0</td>\n",
       "    </tr>\n",
       "    <tr>\n",
       "      <th>21</th>\n",
       "      <td>60</td>\n",
       "      <td>2020-12-21</td>\n",
       "      <td>108</td>\n",
       "      <td>131</td>\n",
       "      <td>364.2</td>\n",
       "    </tr>\n",
       "    <tr>\n",
       "      <th>23</th>\n",
       "      <td>60</td>\n",
       "      <td>2020-12-23</td>\n",
       "      <td>130</td>\n",
       "      <td>101</td>\n",
       "      <td>300.0</td>\n",
       "    </tr>\n",
       "    <tr>\n",
       "      <th>24</th>\n",
       "      <td>45</td>\n",
       "      <td>2020-12-24</td>\n",
       "      <td>105</td>\n",
       "      <td>132</td>\n",
       "      <td>246.0</td>\n",
       "    </tr>\n",
       "    <tr>\n",
       "      <th>25</th>\n",
       "      <td>60</td>\n",
       "      <td>2020-12-25</td>\n",
       "      <td>102</td>\n",
       "      <td>126</td>\n",
       "      <td>334.5</td>\n",
       "    </tr>\n",
       "    <tr>\n",
       "      <th>26</th>\n",
       "      <td>60</td>\n",
       "      <td>2020-12-26</td>\n",
       "      <td>100</td>\n",
       "      <td>120</td>\n",
       "      <td>250.0</td>\n",
       "    </tr>\n",
       "    <tr>\n",
       "      <th>27</th>\n",
       "      <td>60</td>\n",
       "      <td>2020-12-27</td>\n",
       "      <td>92</td>\n",
       "      <td>118</td>\n",
       "      <td>241.0</td>\n",
       "    </tr>\n",
       "    <tr>\n",
       "      <th>28</th>\n",
       "      <td>60</td>\n",
       "      <td>2020-12-28</td>\n",
       "      <td>103</td>\n",
       "      <td>132</td>\n",
       "      <td>NaN</td>\n",
       "    </tr>\n",
       "    <tr>\n",
       "      <th>29</th>\n",
       "      <td>60</td>\n",
       "      <td>2020-12-29</td>\n",
       "      <td>100</td>\n",
       "      <td>132</td>\n",
       "      <td>280.0</td>\n",
       "    </tr>\n",
       "    <tr>\n",
       "      <th>30</th>\n",
       "      <td>60</td>\n",
       "      <td>2020-12-30</td>\n",
       "      <td>102</td>\n",
       "      <td>129</td>\n",
       "      <td>380.3</td>\n",
       "    </tr>\n",
       "    <tr>\n",
       "      <th>31</th>\n",
       "      <td>60</td>\n",
       "      <td>2020-12-31</td>\n",
       "      <td>92</td>\n",
       "      <td>115</td>\n",
       "      <td>243.0</td>\n",
       "    </tr>\n",
       "  </tbody>\n",
       "</table>\n",
       "</div>"
      ],
      "text/plain": [
       "    Duration       Date  Pulse  Maxpulse  Calories\n",
       "0         60 2020-12-01    110       130     409.1\n",
       "1         60 2020-12-02    117       145     479.0\n",
       "2         60 2020-12-03    103       135     340.0\n",
       "3         45 2020-12-04    109       175     282.4\n",
       "4         45 2020-12-05    117       148     406.0\n",
       "5         60 2020-12-06    102       127     300.0\n",
       "6         60 2020-12-07    110       136     374.0\n",
       "7        450 2020-12-08    104       134     253.3\n",
       "8         30 2020-12-09    109       133     195.1\n",
       "9         60 2020-12-10     98       124     269.0\n",
       "10        60 2020-12-11    103       147     329.3\n",
       "11        60 2020-12-12    100       120     250.7\n",
       "13        60 2020-12-13    106       128     345.3\n",
       "14        60 2020-12-14    104       132     379.3\n",
       "15        60 2020-12-15     98       123     275.0\n",
       "16        60 2020-12-16     98       120     215.2\n",
       "17        60 2020-12-17    100       120     300.0\n",
       "18        45 2020-12-18     90       112       NaN\n",
       "19        60 2020-12-19    103       123     323.0\n",
       "20        45 2020-12-20     97       125     243.0\n",
       "21        60 2020-12-21    108       131     364.2\n",
       "23        60 2020-12-23    130       101     300.0\n",
       "24        45 2020-12-24    105       132     246.0\n",
       "25        60 2020-12-25    102       126     334.5\n",
       "26        60 2020-12-26    100       120     250.0\n",
       "27        60 2020-12-27     92       118     241.0\n",
       "28        60 2020-12-28    103       132       NaN\n",
       "29        60 2020-12-29    100       132     280.0\n",
       "30        60 2020-12-30    102       129     380.3\n",
       "31        60 2020-12-31     92       115     243.0"
      ]
     },
     "execution_count": 10,
     "metadata": {},
     "output_type": "execute_result"
    }
   ],
   "source": [
    "#To remove duplicates, use the drop_duplicates() method.\n",
    "df.drop_duplicates(inplace = True)\n",
    "df"
   ]
  }
 ],
 "metadata": {
  "kernelspec": {
   "display_name": "Python 3 (ipykernel)",
   "language": "python",
   "name": "python3"
  },
  "language_info": {
   "codemirror_mode": {
    "name": "ipython",
    "version": 3
   },
   "file_extension": ".py",
   "mimetype": "text/x-python",
   "name": "python",
   "nbconvert_exporter": "python",
   "pygments_lexer": "ipython3",
   "version": "3.10.0"
  }
 },
 "nbformat": 4,
 "nbformat_minor": 5
}
